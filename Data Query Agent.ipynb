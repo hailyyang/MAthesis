{
 "cells": [
  {
   "cell_type": "markdown",
   "id": "9f853e403eabd4f8",
   "metadata": {
    "collapsed": false,
    "jupyter": {
     "outputs_hidden": false
    }
   },
   "source": [
    "# An agent for interacting with a SQL database\n",
    "\n",
    "In this tutorial, we will walk through how to build an agent that can answer questions about a SQL database. \n",
    "\n",
    "At a high level, the agent will:\n",
    "1. Fetch the available tables from the database\n",
    "2. Decide which tables are relevant to the question\n",
    "3. Fetch the DDL for the relevant tables\n",
    "4. Generate a query based on the question and information from the DDL\n",
    "5. Double-check the query for common mistakes using an LLM\n",
    "6. Execute the query and return the results\n",
    "7. Correct mistakes surfaced by the database engine until the query is successful\n",
    "8. Formulate a response based on the results"
   ]
  },
  {
   "cell_type": "markdown",
   "id": "b5a87813ffe7e4d2",
   "metadata": {
    "collapsed": false,
    "jupyter": {
     "outputs_hidden": false
    }
   },
   "source": [
    "## Setup\n",
    "\n",
    "First let's install our required packages and set our API keys"
   ]
  },
  {
   "cell_type": "code",
   "execution_count": null,
   "id": "4a4be247",
   "metadata": {},
   "outputs": [],
   "source": [
    "%%capture --no-stderr\n",
    "%pip install -U langgraph langchain_community"
   ]
  },
  {
   "cell_type": "code",
   "execution_count": null,
   "id": "4a5b6412-5841-49a9-b46a-ac1c5f010be0",
   "metadata": {
    "scrolled": true
   },
   "outputs": [
    {
     "name": "stdout",
     "output_type": "stream",
     "text": [
      "Requirement already satisfied: langchain in /opt/anaconda3/lib/python3.10/site-packages (0.3.19)\n",
      "Requirement already satisfied: langchain-core<1.0.0,>=0.3.35 in /opt/anaconda3/lib/python3.10/site-packages (from langchain) (0.3.37)\n",
      "Requirement already satisfied: langchain-text-splitters<1.0.0,>=0.3.6 in /opt/anaconda3/lib/python3.10/site-packages (from langchain) (0.3.6)\n",
      "Requirement already satisfied: langsmith<0.4,>=0.1.17 in /opt/anaconda3/lib/python3.10/site-packages (from langchain) (0.1.129)\n",
      "Requirement already satisfied: pydantic<3.0.0,>=2.7.4 in /opt/anaconda3/lib/python3.10/site-packages (from langchain) (2.10.1)\n",
      "Requirement already satisfied: SQLAlchemy<3,>=1.4 in /opt/anaconda3/lib/python3.10/site-packages (from langchain) (2.0.23)\n",
      "Requirement already satisfied: requests<3,>=2 in /opt/anaconda3/lib/python3.10/site-packages (from langchain) (2.31.0)\n",
      "Requirement already satisfied: PyYAML>=5.3 in /opt/anaconda3/lib/python3.10/site-packages (from langchain) (6.0.1)\n",
      "Requirement already satisfied: aiohttp<4.0.0,>=3.8.3 in /opt/anaconda3/lib/python3.10/site-packages (from langchain) (3.9.1)\n",
      "Requirement already satisfied: tenacity!=8.4.0,<10,>=8.1.0 in /opt/anaconda3/lib/python3.10/site-packages (from langchain) (8.2.3)\n",
      "Requirement already satisfied: numpy<2,>=1.26.4 in /opt/anaconda3/lib/python3.10/site-packages (from langchain) (1.26.4)\n",
      "Requirement already satisfied: async-timeout<5.0.0,>=4.0.0 in /opt/anaconda3/lib/python3.10/site-packages (from langchain) (4.0.3)\n",
      "Requirement already satisfied: attrs>=17.3.0 in /opt/anaconda3/lib/python3.10/site-packages (from aiohttp<4.0.0,>=3.8.3->langchain) (23.1.0)\n",
      "Requirement already satisfied: multidict<7.0,>=4.5 in /opt/anaconda3/lib/python3.10/site-packages (from aiohttp<4.0.0,>=3.8.3->langchain) (6.0.4)\n",
      "Requirement already satisfied: yarl<2.0,>=1.0 in /opt/anaconda3/lib/python3.10/site-packages (from aiohttp<4.0.0,>=3.8.3->langchain) (1.9.3)\n",
      "Requirement already satisfied: frozenlist>=1.1.1 in /opt/anaconda3/lib/python3.10/site-packages (from aiohttp<4.0.0,>=3.8.3->langchain) (1.4.0)\n",
      "Requirement already satisfied: aiosignal>=1.1.2 in /opt/anaconda3/lib/python3.10/site-packages (from aiohttp<4.0.0,>=3.8.3->langchain) (1.3.1)\n",
      "Requirement already satisfied: jsonpatch<2.0,>=1.33 in /opt/anaconda3/lib/python3.10/site-packages (from langchain-core<1.0.0,>=0.3.35->langchain) (1.33)\n",
      "Requirement already satisfied: packaging<25,>=23.2 in /opt/anaconda3/lib/python3.10/site-packages (from langchain-core<1.0.0,>=0.3.35->langchain) (23.2)\n",
      "Requirement already satisfied: typing-extensions>=4.7 in /opt/anaconda3/lib/python3.10/site-packages (from langchain-core<1.0.0,>=0.3.35->langchain) (4.12.2)\n",
      "Requirement already satisfied: httpx<1,>=0.23.0 in /opt/anaconda3/lib/python3.10/site-packages (from langsmith<0.4,>=0.1.17->langchain) (0.25.2)\n",
      "Requirement already satisfied: orjson<4.0.0,>=3.9.14 in /opt/anaconda3/lib/python3.10/site-packages (from langsmith<0.4,>=0.1.17->langchain) (3.10.7)\n",
      "Requirement already satisfied: annotated-types>=0.6.0 in /opt/anaconda3/lib/python3.10/site-packages (from pydantic<3.0.0,>=2.7.4->langchain) (0.6.0)\n",
      "Requirement already satisfied: pydantic-core==2.27.1 in /opt/anaconda3/lib/python3.10/site-packages (from pydantic<3.0.0,>=2.7.4->langchain) (2.27.1)\n",
      "Requirement already satisfied: charset-normalizer<4,>=2 in /opt/anaconda3/lib/python3.10/site-packages (from requests<3,>=2->langchain) (3.3.2)\n",
      "Requirement already satisfied: idna<4,>=2.5 in /opt/anaconda3/lib/python3.10/site-packages (from requests<3,>=2->langchain) (3.6)\n",
      "Requirement already satisfied: urllib3<3,>=1.21.1 in /opt/anaconda3/lib/python3.10/site-packages (from requests<3,>=2->langchain) (2.1.0)\n",
      "Requirement already satisfied: certifi>=2017.4.17 in /opt/anaconda3/lib/python3.10/site-packages (from requests<3,>=2->langchain) (2023.11.17)\n",
      "Requirement already satisfied: anyio in /opt/anaconda3/lib/python3.10/site-packages (from httpx<1,>=0.23.0->langsmith<0.4,>=0.1.17->langchain) (3.7.1)\n",
      "Requirement already satisfied: httpcore==1.* in /opt/anaconda3/lib/python3.10/site-packages (from httpx<1,>=0.23.0->langsmith<0.4,>=0.1.17->langchain) (1.0.2)\n",
      "Requirement already satisfied: sniffio in /opt/anaconda3/lib/python3.10/site-packages (from httpx<1,>=0.23.0->langsmith<0.4,>=0.1.17->langchain) (1.3.0)\n",
      "Requirement already satisfied: h11<0.15,>=0.13 in /opt/anaconda3/lib/python3.10/site-packages (from httpcore==1.*->httpx<1,>=0.23.0->langsmith<0.4,>=0.1.17->langchain) (0.14.0)\n",
      "Requirement already satisfied: jsonpointer>=1.9 in /opt/anaconda3/lib/python3.10/site-packages (from jsonpatch<2.0,>=1.33->langchain-core<1.0.0,>=0.3.35->langchain) (2.4)\n",
      "Requirement already satisfied: exceptiongroup in /opt/anaconda3/lib/python3.10/site-packages (from anyio->httpx<1,>=0.23.0->langsmith<0.4,>=0.1.17->langchain) (1.2.0)\n"
     ]
    }
   ],
   "source": [
    "!pip install -U langchain\n",
    "!pip install -qU langchain-groq"
   ]
  },
  {
   "cell_type": "code",
   "execution_count": null,
   "id": "6c05a600f1afb5b6",
   "metadata": {
    "ExecuteTime": {
     "end_time": "2024-06-12T21:24:00.532147Z",
     "start_time": "2024-06-12T21:24:00.526043Z"
    },
    "collapsed": false,
    "jupyter": {
     "outputs_hidden": false
    }
   },
   "outputs": [],
   "source": [
    "import os\n",
    "from dotenv import load_dotenv\n",
    "load_dotenv()\n",
    "\n",
    "# os.environ[\"OPENAI_API_KEY\"]\n",
    "# os.environ[\"LANGCHAIN_API_KEY\"]\n",
    "# os.environ[\"GROQ_API_KEY\"]\n",
    "# os.environ[\"PGPASSWORD\"]\n",
    "# os.environ[\"DATABASE_URI\"] \n",
    "\n",
    "os.environ[\"LANGCHAIN_TRACING_V2\"] = \"true\"\n",
    "os.environ[\"LANGCHAIN_ENDPOINT\"] = \"https://api.smith.langchain.com\"\n",
    "os.environ[\"LANGCHAIN_PROJECT\"] = \"llama-agent\""
   ]
  },
  {
   "cell_type": "markdown",
   "id": "80559636",
   "metadata": {},
   "source": [
    "<div class=\"admonition tip\">\n",
    "    <p class=\"admonition-title\">Set up <a href=\"https://smith.langchain.com\">LangSmith</a> for LangGraph development</p>\n",
    "    <p style=\"padding-top: 5px;\">\n",
    "        Sign up for LangSmith to quickly spot issues and improve the performance of your LangGraph projects. LangSmith lets you use trace data to debug, test, and monitor your LLM apps built with LangGraph — read more about how to get started <a href=\"https://docs.smith.langchain.com\">here</a>. \n",
    "    </p>\n",
    "</div>    "
   ]
  },
  {
   "cell_type": "markdown",
   "id": "877d8c85825089d8",
   "metadata": {
    "collapsed": false,
    "jupyter": {
     "outputs_hidden": false
    }
   },
   "source": [
    "## Configure the database\n",
    "\n",
    "We will be creating a SQLite database for this tutorial. SQLite is a lightweight database that is easy to set up and use. We will be loading the `chinook` database, which is a sample database that represents a digital media store.\n",
    "Find more information about the database [here](https://www.sqlitetutorial.net/sqlite-sample-database/).\n",
    "\n",
    "For convenience, we have hosted the database (`Chinook.db`) on a public GCS bucket."
   ]
  },
  {
   "cell_type": "code",
   "execution_count": null,
   "id": "64b0bf1b14c2e902",
   "metadata": {
    "ExecuteTime": {
     "end_time": "2024-06-12T21:24:09.918436Z",
     "start_time": "2024-06-12T21:24:09.608563Z"
    },
    "collapsed": false,
    "jupyter": {
     "outputs_hidden": false
    }
   },
   "outputs": [
    {
     "name": "stdout",
     "output_type": "stream",
     "text": [
      "postgresql\n",
      "['ada_pots', 'block', 'collateral_tx_in', 'collateral_tx_out', 'committee', 'committee_de_registration', 'committee_hash', 'committee_member', 'committee_registration', 'constitution', 'cost_model', 'datum', 'delegation', 'delegation_vote', 'delisted_pool', 'drep_distr', 'drep_hash', 'drep_registration', 'epoch', 'epoch_param', 'epoch_stake', 'epoch_stake_progress', 'epoch_state', 'epoch_sync_time', 'event_info', 'extra_key_witness', 'extra_migrations', 'gov_action_proposal', 'ma_tx_mint', 'ma_tx_out', 'meta', 'multi_asset', 'new_committee', 'off_chain_pool_data', 'off_chain_pool_fetch_error', 'off_chain_vote_author', 'off_chain_vote_data', 'off_chain_vote_drep_data', 'off_chain_vote_external_update', 'off_chain_vote_fetch_error', 'off_chain_vote_gov_action_data', 'off_chain_vote_reference', 'param_proposal', 'pool_hash', 'pool_metadata_ref', 'pool_owner', 'pool_relay', 'pool_retire', 'pool_stat', 'pool_update', 'pot_transfer', 'redeemer', 'redeemer_data', 'reference_tx_in', 'reserve', 'reserved_pool_ticker', 'reverse_index', 'reward', 'reward_rest', 'schema_version', 'script', 'slot_leader', 'stake_address', 'stake_deregistration', 'stake_registration', 'tbl_tx_mint_mas', 'tbl_txout_mas', 'tbl_withdrawals', 'treasury', 'treasury_withdrawal', 'tx', 'tx_cbor', 'tx_in', 'tx_metadata', 'tx_out', 'voting_anchor', 'voting_procedure', 'withdrawal']\n"
     ]
    },
    {
     "data": {
      "text/plain": [
       "'[(96591643,)]'"
      ]
     },
     "execution_count": 63,
     "metadata": {},
     "output_type": "execute_result"
    }
   ],
   "source": [
    "from langchain_community.utilities import SQLDatabase\n",
    "\n",
    "database_uri = os.getenv(\"DATABASE_URI\")\n",
    "\n",
    "# Initialize the SQLDatabase instance\n",
    "db = SQLDatabase.from_uri(database_uri)\n",
    "\n",
    "print(db.dialect)\n",
    "print(db.get_usable_table_names())\n",
    "db.run(\"SELECT * FROM tx LIMIT 10;\")\n",
    "db.run(\"SELECT MAX(tx_in_id) FROM tx_in;\")"
   ]
  },
  {
   "cell_type": "markdown",
   "id": "6959e93141d8099c",
   "metadata": {
    "collapsed": false,
    "jupyter": {
     "outputs_hidden": false
    }
   },
   "source": [
    "## Utility functions\n",
    "\n",
    "We will define a few utility functions to help us with the agent implementation. Specifically, we will wrap a `ToolNode` with a fallback to handle errors and surface them to the agent."
   ]
  },
  {
   "cell_type": "code",
   "execution_count": null,
   "id": "deae8460e4cf72b1",
   "metadata": {
    "ExecuteTime": {
     "end_time": "2024-06-12T21:24:17.557848Z",
     "start_time": "2024-06-12T21:24:17.508550Z"
    },
    "collapsed": false,
    "jupyter": {
     "outputs_hidden": false
    }
   },
   "outputs": [],
   "source": [
    "from typing import Any\n",
    "\n",
    "from langchain_core.messages import ToolMessage\n",
    "from langchain_core.runnables import RunnableLambda, RunnableWithFallbacks\n",
    "from langgraph.prebuilt import ToolNode\n",
    "\n",
    "\n",
    "def create_tool_node_with_fallback(tools: list) -> RunnableWithFallbacks[Any, dict]:\n",
    "    \"\"\"\n",
    "    Create a ToolNode with a fallback to handle errors and surface them to the agent.\n",
    "    \"\"\"\n",
    "    return ToolNode(tools).with_fallbacks(\n",
    "        [RunnableLambda(handle_tool_error)], exception_key=\"error\"\n",
    "    )\n",
    "\n",
    "\n",
    "def handle_tool_error(state) -> dict:\n",
    "    error = state.get(\"error\")\n",
    "    tool_calls = state[\"messages\"][-1].tool_calls\n",
    "    return {\n",
    "        \"messages\": [\n",
    "            ToolMessage(\n",
    "                content=f\"Error: {repr(error)}\\n please fix your mistakes.\",\n",
    "                tool_call_id=tc[\"id\"],\n",
    "            )\n",
    "            for tc in tool_calls\n",
    "        ]\n",
    "    }"
   ]
  },
  {
   "cell_type": "markdown",
   "id": "d0196604f8cbb07b",
   "metadata": {
    "collapsed": false,
    "jupyter": {
     "outputs_hidden": false
    }
   },
   "source": [
    "## Define tools for the agent\n",
    "\n",
    "We will define a few tools that the agent will use to interact with the database.\n",
    "\n",
    "1. `list_tables_tool`: Fetch the available tables from the database\n",
    "2. `get_schema_tool`: Fetch the DDL for a table\n",
    "3. `db_query_tool`: Execute the query and fetch the results OR return an error message if the query fails\n",
    "\n",
    "For the first two tools, we will grab them from the `SQLDatabaseToolkit`, also available in the `langchain_community` package."
   ]
  },
  {
   "cell_type": "code",
   "execution_count": null,
   "id": "452d049a3d2a4406",
   "metadata": {
    "ExecuteTime": {
     "end_time": "2024-06-12T20:18:15.838940Z",
     "start_time": "2024-06-12T20:18:15.734199Z"
    },
    "collapsed": false,
    "jupyter": {
     "outputs_hidden": false
    }
   },
   "outputs": [
    {
     "name": "stdout",
     "output_type": "stream",
     "text": [
      "ada_pots, block, collateral_tx_in, collateral_tx_out, committee, committee_de_registration, committee_hash, committee_member, committee_registration, constitution, cost_model, datum, delegation, delegation_vote, delisted_pool, drep_distr, drep_hash, drep_registration, epoch, epoch_param, epoch_stake, epoch_stake_progress, epoch_state, epoch_sync_time, event_info, extra_key_witness, extra_migrations, gov_action_proposal, ma_tx_mint, ma_tx_out, meta, multi_asset, new_committee, off_chain_pool_data, off_chain_pool_fetch_error, off_chain_vote_author, off_chain_vote_data, off_chain_vote_drep_data, off_chain_vote_external_update, off_chain_vote_fetch_error, off_chain_vote_gov_action_data, off_chain_vote_reference, param_proposal, pool_hash, pool_metadata_ref, pool_owner, pool_relay, pool_retire, pool_stat, pool_update, pot_transfer, redeemer, redeemer_data, reference_tx_in, reserve, reserved_pool_ticker, reverse_index, reward, reward_rest, schema_version, script, slot_leader, stake_address, stake_deregistration, stake_registration, tbl_tx_mint_mas, tbl_txout_mas, tbl_withdrawals, treasury, treasury_withdrawal, tx, tx_cbor, tx_in, tx_metadata, tx_out, voting_anchor, voting_procedure, withdrawal\n",
      "\n",
      "CREATE TABLE tx_in (\n",
      "\tid BIGSERIAL NOT NULL, \n",
      "\ttx_in_id BIGINT NOT NULL, \n",
      "\ttx_out_id BIGINT NOT NULL, \n",
      "\ttx_out_index SMALLINT NOT NULL, \n",
      "\tredeemer_id BIGINT, \n",
      "\tCONSTRAINT tx_in_pkey PRIMARY KEY (id)\n",
      ")\n",
      "\n",
      "/*\n",
      "3 rows from tx_in table:\n",
      "id\ttx_in_id\ttx_out_id\ttx_out_index\tredeemer_id\n",
      "1\t14506\t7853\t0\tNone\n",
      "2\t14507\t14506\t0\tNone\n",
      "3\t14508\t14507\t0\tNone\n",
      "*/\n"
     ]
    }
   ],
   "source": [
    "from langchain_community.agent_toolkits import SQLDatabaseToolkit\n",
    "from langchain_groq import ChatGroq\n",
    "\n",
    "toolkit = SQLDatabaseToolkit(db=db, llm=ChatGroq(model=\"llama3-70b-8192\"))\n",
    "tools = toolkit.get_tools()\n",
    "\n",
    "list_tables_tool = next(tool for tool in tools if tool.name == \"sql_db_list_tables\")\n",
    "get_schema_tool = next(tool for tool in tools if tool.name == \"sql_db_schema\")\n",
    "\n",
    "print(list_tables_tool.invoke(\"\"))\n",
    "print(get_schema_tool.invoke(\"tx_in\"))"
   ]
  },
  {
   "cell_type": "markdown",
   "id": "c16359edada327fa",
   "metadata": {
    "collapsed": false,
    "jupyter": {
     "outputs_hidden": false
    }
   },
   "source": [
    "The third will be defined manually. For the `db_query_tool`, we will execute the query against the database and return the results."
   ]
  },
  {
   "cell_type": "code",
   "execution_count": null,
   "id": "f7eb708ecb4c7cfc",
   "metadata": {
    "ExecuteTime": {
     "end_time": "2024-06-12T20:39:35.759834Z",
     "start_time": "2024-06-12T20:39:35.740255Z"
    },
    "collapsed": false,
    "jupyter": {
     "outputs_hidden": false
    }
   },
   "outputs": [
    {
     "name": "stdout",
     "output_type": "stream",
     "text": [
      "Query results: [(1, 14506, 7853, 0, None), (2, 14507, 14506, 0, None), (3, 14508, 14507, 0, None), (4, 14509, 14508, 1, None), (5, 14509, 14507, 1, None), (6, 14510, 14508, 0, None), (7, 14510, 14509, 1, None), (8, 14511, 1326, 0, None), (9, 14512, 14511, 0, None), (10, 14513, 4360, 0, None)]\n"
     ]
    }
   ],
   "source": [
    "from langchain_core.tools import tool\n",
    "\n",
    "\n",
    "@tool\n",
    "def db_query_tool(query: str) -> str:\n",
    "    \"\"\"\n",
    "    Execute a SQL query against the database and get back the result.\n",
    "    If the query is not correct, an error message will be returned.\n",
    "    If an error is returned, rewrite the query, check the query, and try again.\n",
    "    \"\"\"\n",
    "    result = db.run_no_throw(query)\n",
    "    if not result:\n",
    "        return \"Error: Query failed. Please rewrite your query and try again.\"\n",
    "    return f\"Query results: {result}\"\n",
    "\n",
    "\n",
    "print(db_query_tool.invoke(\"SELECT * FROM tx_in LIMIT 10;\"))"
   ]
  },
  {
   "cell_type": "markdown",
   "id": "f1d66db8b8621639",
   "metadata": {
    "collapsed": false,
    "jupyter": {
     "outputs_hidden": false
    }
   },
   "source": [
    "While not strictly a tool, we will prompt an LLM to check for common mistakes in the query and later add this as a node in the workflow."
   ]
  },
  {
   "cell_type": "code",
   "execution_count": null,
   "id": "293017e8f05ac2b3",
   "metadata": {
    "ExecuteTime": {
     "end_time": "2024-06-12T20:18:19.658322Z",
     "start_time": "2024-06-12T20:18:18.756256Z"
    },
    "collapsed": false,
    "jupyter": {
     "outputs_hidden": false
    }
   },
   "outputs": [
    {
     "data": {
      "text/plain": [
       "AIMessage(content='', additional_kwargs={'tool_calls': [{'id': 'call_8pzw', 'function': {'arguments': '{\"query\":\"SELECT DATE(time) as date, COUNT(id) as number_of_blocks FROM block WHERE time BETWEEN \\'2023-05-01\\' AND \\'2023-06-30\\' GROUP BY date ORDER BY date;\"}', 'name': 'db_query_tool'}, 'type': 'function'}]}, response_metadata={'token_usage': {'completion_tokens': 86, 'prompt_tokens': 1114, 'total_tokens': 1200, 'completion_time': 0.245714286, 'prompt_time': 0.054149074, 'queue_time': 0.01862576700000001, 'total_time': 0.29986336}, 'model_name': 'llama3-70b-8192', 'system_fingerprint': 'fp_2e0feca3c9', 'finish_reason': 'tool_calls', 'logprobs': None}, id='run-c8b5c790-a1a4-4472-8a08-c9ac2735a55c-0', tool_calls=[{'name': 'db_query_tool', 'args': {'query': \"SELECT DATE(time) as date, COUNT(id) as number_of_blocks FROM block WHERE time BETWEEN '2023-05-01' AND '2023-06-30' GROUP BY date ORDER BY date;\"}, 'id': 'call_8pzw', 'type': 'tool_call'}], usage_metadata={'input_tokens': 1114, 'output_tokens': 86, 'total_tokens': 1200})"
      ]
     },
     "execution_count": 87,
     "metadata": {},
     "output_type": "execute_result"
    }
   ],
   "source": [
    "from langchain_core.prompts import ChatPromptTemplate\n",
    "\n",
    "query_check_system = \"\"\"You are a SQL expert with a strong attention to detail.\n",
    "Generate a SQL query to retrieve data from the live PostgreSQL database.\n",
    "Do not use example data. Ensure your query targets the database directly.\n",
    "Double check the SQLite query for common mistakes, including:\n",
    "- Using NOT IN with NULL values\n",
    "- Using UNION when UNION ALL should have been used\n",
    "- Using BETWEEN for exclusive ranges\n",
    "- Data type mismatch in predicates\n",
    "- Properly quoting identifiers\n",
    "- Using the correct number of arguments for functions\n",
    "- Casting to the correct data type\n",
    "- Using the proper columns for joins\n",
    "\n",
    "If there are any of the above mistakes, rewrite the query. If there are no mistakes, just reproduce the original query.\n",
    "\n",
    "You will call the appropriate tool to execute the query after running this check.\"\"\"\n",
    "\n",
    "query_check_prompt = ChatPromptTemplate.from_messages(\n",
    "    [(\"system\", query_check_system), (\"placeholder\", \"{messages}\")]\n",
    ")\n",
    "query_check = query_check_prompt | ChatGroq(model=\"llama3-70b-8192\", temperature=0).bind_tools(\n",
    "    [db_query_tool], tool_choice=\"any\"\n",
    ")\n",
    "\n",
    "\n",
    "#query_check.invoke({\"messages\": [(\"user\", \"SELECT * FROM tx_in LIMIT 10;\")]})\n",
    "\n",
    "\n",
    "\n",
    "query_check.invoke({\"messages\": [(\"user\", \n",
    "\"\"\"\n",
    "The relevant table here is \"block\" and the relevant columns are \"time\" and \"id\". We can count the number of blocks per day by grouping the data by date. Here is the SQL query:\n",
    "\n",
    "```sql\n",
    "SELECT DATE(time) as date, COUNT(id) as number_of_blocks\n",
    "FROM block\n",
    "WHERE time BETWEEN '2023-05-01' AND '2023-06-30'\n",
    "GROUP BY date\n",
    "ORDER BY date;\n",
    "```\n",
    "\n",
    "This query will return the number of blocks for each day from May 2023 to June 2023.\n",
    "\"\"\"\n",
    ")]})"
   ]
  },
  {
   "cell_type": "markdown",
   "id": "66f88452151e8188",
   "metadata": {
    "collapsed": false,
    "jupyter": {
     "outputs_hidden": false
    }
   },
   "source": [
    "## Define the workflow\n",
    "\n",
    "We will then define the workflow for the agent. The agent will first force-call the `list_tables_tool` to fetch the available tables from the database, then follow the steps mentioned at the beginning of the tutorial."
   ]
  },
  {
   "cell_type": "markdown",
   "id": "2fd9e41c-95c3-47aa-9a12-80b78cc7ac2d",
   "metadata": {},
   "source": [
    "<div class=\"admonition note\">\n",
    "    <p class=\"admonition-title\">Using Pydantic with LangChain</p>\n",
    "    <p>\n",
    "        This notebook uses Pydantic v2 <code>BaseModel</code>, which requires <code>langchain-core >= 0.3</code>. Using <code>langchain-core < 0.3</code> will result in errors due to mixing of Pydantic v1 and v2 <code>BaseModels</code>.\n",
    "    </p>\n",
    "</div>"
   ]
  },
  {
   "cell_type": "code",
   "execution_count": null,
   "id": "b25fea6f-ca31-40ad-98fc-ceb5dae72f1a",
   "metadata": {},
   "outputs": [],
   "source": [
    "file_path = './schema.md'\n",
    "with open(file_path, \"r\") as file:\n",
    "    schema_content = file.read()"
   ]
  },
  {
   "cell_type": "code",
   "execution_count": null,
   "id": "0428db67-2e9f-4ed5-9181-42688b4d7cf9",
   "metadata": {},
   "outputs": [],
   "source": [
    "import json\n",
    "from typing import Annotated, Literal\n",
    "\n",
    "from langchain_core.messages import AIMessage, ToolMessage\n",
    "from langchain_core.prompts import ChatPromptTemplate\n",
    "from langchain_groq import ChatGroq\n",
    "from langchain_openai import ChatOpenAI\n",
    "from pydantic import BaseModel, Field\n",
    "from typing_extensions import TypedDict\n",
    "\n",
    "from langgraph.graph import END, START, StateGraph\n",
    "from langgraph.graph.message import AnyMessage, add_messages\n",
    "\n",
    "\n",
    "# Define the state for the agent\n",
    "class State(TypedDict):\n",
    "    messages: Annotated[list[AnyMessage], add_messages]\n",
    "\n",
    "\n",
    "# Define a new graph\n",
    "workflow = StateGraph(State)\n",
    "\n",
    "\n",
    "# Add a node for the first tool call\n",
    "def first_tool_call(state: State) -> dict[str, list[AIMessage]]:\n",
    "    return {\n",
    "        \"messages\": [\n",
    "            AIMessage(\n",
    "                content=\"\",\n",
    "                tool_calls=[\n",
    "                    {\n",
    "                        \"name\": \"sql_db_list_tables\",\n",
    "                        \"args\": {},\n",
    "                        \"id\": \"tool_abcd123\",\n",
    "                    }\n",
    "                ],\n",
    "            )\n",
    "        ]\n",
    "    }\n",
    "\n",
    "\n",
    "def model_check_query(state: State) -> dict[str, list[AIMessage]]:\n",
    "    \"\"\"\n",
    "    Use this tool to double-check if your query is correct before executing it.\n",
    "    \"\"\"\n",
    "    return {\"messages\": [query_check.invoke({\"messages\": [state[\"messages\"][-1]]})]}\n",
    "\n",
    "\n",
    "workflow.add_node(\"first_tool_call\", first_tool_call)\n",
    "\n",
    "# Add nodes for the first two tools\n",
    "workflow.add_node(\"list_tables_tool\", create_tool_node_with_fallback([list_tables_tool]))\n",
    "\n",
    "workflow.add_node(\"get_schema_tool\", create_tool_node_with_fallback([get_schema_tool]))\n",
    "\n",
    "# Add a node for a model to choose the relevant tables based on the question and available tables\n",
    "model_get_schema = ChatGroq(model=\"llama3-70b-8192\", temperature=0).bind_tools([get_schema_tool])\n",
    "workflow.add_node(\n",
    "    \"model_get_schema\",\n",
    "    lambda state: {\n",
    "        \"messages\": [model_get_schema.invoke(state[\"messages\"])],\n",
    "    },\n",
    ")\n",
    "\n",
    "\n",
    "# Describe a tool to represent the end state\n",
    "class SubmitFinalAnswer(BaseModel):\n",
    "    \"\"\"Submit the final answer to the user based on the query results.\"\"\"\n",
    "\n",
    "    final_answer: str = Field(..., description=\"The final answer to the user\")\n",
    "\n",
    "\n",
    "# Add a node for a model to generate a query based on the question and schema\n",
    "query_gen_system = \"\"\"You are a SQL expert with a strong attention to detail.\n",
    "\n",
    "Given an input question, output a syntactically correct PostgreSQL query to run, then look at the results of the query and return the answer.\n",
    "\n",
    "You must generate a SQL query that retrieves live data from the PostgreSQL database. Do not use any example rows that may be provided by the schema tool as part of the final answer.\n",
    "The final answer should only be based on the actual query results from the database.\n",
    "\n",
    "When generating the query:\n",
    "\n",
    "Output the SQL query that answers the input question without a tool call. The output must be only the SQL query without any text or explanation.\n",
    "\n",
    "You can order the results by a relevant column to return the most interesting examples in the database.\n",
    "Never query for all the columns from a specific table, only ask for the relevant columns given the question.\n",
    "\n",
    "If you get an error while executing a query, rewrite the query and try again.\n",
    "\n",
    "If you get an empty result set, you should try to rewrite the query to get a non-empty result set.\n",
    "NEVER make stuff up if you don't have enough information to answer the query... just say you don't have enough information.\n",
    "\n",
    "Generate only the query. IMPORTANT: DO NOT make any DML statements (INSERT, UPDATE, DELETE, DROP etc.) to the database.\n",
    "\n",
    "\"\"\"\n",
    "\n",
    "# Unless the user specifies a specific number of examples they wish to obtain, always limit your query to at most 5 results.\n",
    "query_gen_prompt = ChatPromptTemplate.from_messages([(\"system\", query_gen_system), (\"placeholder\", \"{messages}\")])\n",
    "query_gen = query_gen_prompt | ChatGroq(model=\"llama3-70b-8192\", temperature=0)\n",
    "\n",
    "\n",
    "def query_gen_node(state: State):\n",
    "    message = query_gen.invoke(state)\n",
    "\n",
    "    # If the message contains a SQL query (not a tool call), return it\n",
    "    if not message.tool_calls:\n",
    "        return {\"messages\": [message]}\n",
    "\n",
    "    # If there's a tool call, it's an error\n",
    "    tool_messages = [\n",
    "        ToolMessage(\n",
    "            content=f\"Error: Direct tool calls are not allowed. Please generate a SQL query instead.\",\n",
    "            tool_call_id=tc[\"id\"],\n",
    "        )\n",
    "        for tc in message.tool_calls\n",
    "    ]\n",
    "    return {\"messages\": tool_messages}\n",
    "\n",
    "\n",
    "workflow.add_node(\"query_gen\", query_gen_node)\n",
    "\n",
    "\n",
    "\n",
    "import psycopg2\n",
    "import csv\n",
    "\n",
    "\n",
    "def new_execute_query_node(state: State):\n",
    "    # Write your SQL query\n",
    "    #query = \"SELECT * FROM your_table_name;\"  # Replace with your actual query\n",
    "    messages = state[\"messages\"]\n",
    "    query = messages[-1].content\n",
    "    \n",
    "    # Define your PostgreSQL connection details\n",
    "    conn = psycopg2.connect(os.environ[\"DATABASE_URI\"])\n",
    "\n",
    "    # Create a cursor object\n",
    "    cur = conn.cursor()\n",
    "    \n",
    "    # Execute the SQL query\n",
    "    cur.execute(query)\n",
    "    \n",
    "    # Fetch all rows from the result\n",
    "    rows = cur.fetchall()\n",
    "    \n",
    "    # Get column names from the cursor\n",
    "    columns = [desc[0] for desc in cur.description]\n",
    "    \n",
    "    # Define the CSV file path\n",
    "    csv_file_path = 'query_result.csv'\n",
    "    # Define the txt file path\n",
    "    #txt_file_path = 'query_result.txt'\n",
    "    \n",
    "    # Write the result to a CSV file\n",
    "    with open(csv_file_path, mode='w') as file:\n",
    "    # Write the column headers\n",
    "        file.write(\",\".join(columns) + \"\\n\")  # Use tab as delimiter between columns\n",
    "    \n",
    "    # Write the data rows\n",
    "        for row in rows:\n",
    "            file.write(\",\".join(map(str, row)) + \"\\n\")  # Convert each row to a string and join with tab\n",
    "    \n",
    "    # Close the cursor and the connection\n",
    "    cur.close()\n",
    "    conn.close()\n",
    "    \n",
    "    print(f\"Data has been saved to {csv_file_path}\")\n",
    "\n",
    "\n",
    "\n",
    "workflow.add_node(\"new_execute_query\", new_execute_query_node)\n",
    "\n",
    "# Define a conditional edge to decide whether to continue or end the workflow\n",
    "def should_continue(state: State) -> Literal[\"new_execute_query\", \"query_gen\"]:\n",
    "    messages = state[\"messages\"]\n",
    "    last_message = messages[-1]\n",
    "    if last_message.content.startswith(\"Error:\"):\n",
    "        return \"query_gen\"\n",
    "    else:\n",
    "        return \"new_execute_query\"\n",
    "\n",
    "# Specify the edges between the nodes\n",
    "workflow.add_edge(START, \"first_tool_call\")\n",
    "workflow.add_edge(\"first_tool_call\", \"list_tables_tool\")\n",
    "workflow.add_edge(\"list_tables_tool\", \"model_get_schema\")\n",
    "workflow.add_edge(\"model_get_schema\", \"get_schema_tool\")\n",
    "workflow.add_edge(\"get_schema_tool\", \"query_gen\")\n",
    "workflow.add_conditional_edges(\"query_gen\", should_continue)\n",
    "#workflow.add_edge(\"correct_query\", \"execute_query\")\n",
    "#workflow.add_edge(\"execute_query\", \"submit_final_answer\")\n",
    "#workflow.add_edge(\"submit_final_answer\", END)\n",
    "workflow.add_edge(\"new_execute_query\", END)\n",
    "\n",
    "# Compile the workflow into a runnable\n",
    "app = workflow.compile()"
   ]
  },
  {
   "cell_type": "markdown",
   "id": "f3797145-0c54-49c2-b975-1a877b3209d6",
   "metadata": {},
   "source": [
    "##Visualize the Graph"
   ]
  },
  {
   "cell_type": "code",
   "execution_count": null,
   "id": "e3892603-3e5d-4e41-91af-6b4629b98008",
   "metadata": {},
   "outputs": [],
   "source": [
    "from IPython.display import Image, display\n",
    "from langchain_core.runnables.graph import MermaidDrawMethod\n",
    "\n",
    "display(\n",
    "    Image(\n",
    "        app.get_graph().draw_mermaid_png(\n",
    "            draw_method=MermaidDrawMethod.API,\n",
    "        )\n",
    "    )\n",
    ")"
   ]
  },
  {
   "cell_type": "markdown",
   "id": "bdf78dc68548522c",
   "metadata": {
    "collapsed": false,
    "jupyter": {
     "outputs_hidden": false
    }
   },
   "source": [
    "## Run the agent"
   ]
  },
  {
   "cell_type": "code",
   "execution_count": null,
   "id": "27f19495-e5eb-4b75-b577-98a0d3ccca68",
   "metadata": {},
   "outputs": [
    {
     "name": "stdout",
     "output_type": "stream",
     "text": [
      "Data has been saved to query_result.csv\n",
      "{'messages': [HumanMessage(content='Generate a SQL query that returns pool id, the total stakes delegated to each pool, and total rewards earned by each pool in epoch 280 from tables reward and epoch_stake', additional_kwargs={}, response_metadata={}, id='9cc26cca-4c03-447f-8eda-7fa453e33702'), AIMessage(content='', additional_kwargs={}, response_metadata={}, id='310b5a48-f67c-4392-ae4b-ac7afeaa5be7', tool_calls=[{'name': 'sql_db_list_tables', 'args': {}, 'id': 'tool_abcd123', 'type': 'tool_call'}]), ToolMessage(content='ada_pots, block, collateral_tx_in, collateral_tx_out, committee, committee_de_registration, committee_hash, committee_member, committee_registration, constitution, cost_model, datum, delegation, delegation_vote, delisted_pool, drep_distr, drep_hash, drep_registration, epoch, epoch_param, epoch_stake, epoch_stake_progress, epoch_state, epoch_sync_time, event_info, extra_key_witness, extra_migrations, gov_action_proposal, ma_tx_mint, ma_tx_out, meta, multi_asset, new_committee, off_chain_pool_data, off_chain_pool_fetch_error, off_chain_vote_author, off_chain_vote_data, off_chain_vote_drep_data, off_chain_vote_external_update, off_chain_vote_fetch_error, off_chain_vote_gov_action_data, off_chain_vote_reference, param_proposal, pool_hash, pool_metadata_ref, pool_owner, pool_relay, pool_retire, pool_stat, pool_update, pot_transfer, redeemer, redeemer_data, reference_tx_in, reserve, reserved_pool_ticker, reverse_index, reward, reward_rest, schema_version, script, slot_leader, stake_address, stake_deregistration, stake_registration, tbl_tx_mint_mas, tbl_txout_mas, tbl_withdrawals, treasury, treasury_withdrawal, tx, tx_cbor, tx_in, tx_metadata, tx_out, voting_anchor, voting_procedure, withdrawal', name='sql_db_list_tables', id='967d6f14-3f42-4b3e-81b5-ddc7551ffad3', tool_call_id='tool_abcd123'), AIMessage(content='', additional_kwargs={'tool_calls': [{'id': 'call_e4dy', 'function': {'arguments': '{\"table_names\":\"epoch_stake,reward\"}', 'name': 'sql_db_schema'}, 'type': 'function'}]}, response_metadata={'token_usage': {'completion_tokens': 39, 'prompt_tokens': 1364, 'total_tokens': 1403, 'completion_time': 0.115484903, 'prompt_time': 0.147639973, 'queue_time': 0.033334457999999983, 'total_time': 0.263124876}, 'model_name': 'llama3-70b-8192', 'system_fingerprint': 'fp_753a4aecf6', 'finish_reason': 'tool_calls', 'logprobs': None}, id='run-973caf1a-232f-49aa-af27-c03d1a63db9b-0', tool_calls=[{'name': 'sql_db_schema', 'args': {'table_names': 'epoch_stake,reward'}, 'id': 'call_e4dy', 'type': 'tool_call'}], usage_metadata={'input_tokens': 1364, 'output_tokens': 39, 'total_tokens': 1403}), ToolMessage(content=\"\\nCREATE TABLE epoch_stake (\\n\\tid BIGSERIAL NOT NULL, \\n\\taddr_id BIGINT NOT NULL, \\n\\tpool_id BIGINT NOT NULL, \\n\\tamount NUMERIC NOT NULL, \\n\\tepoch_no INTEGER NOT NULL, \\n\\tCONSTRAINT epoch_stake_pkey PRIMARY KEY (id), \\n\\tCONSTRAINT unique_epoch_stake UNIQUE (epoch_no, addr_id, pool_id)\\n)\\n\\n/*\\n3 rows from epoch_stake table:\\nid\\taddr_id\\tpool_id\\tamount\\tepoch_no\\n1\\t35965\\t465\\t34991346238\\t210\\n2\\t5012\\t255\\t200896858462\\t210\\n3\\t5991\\t263\\t105132947701\\t210\\n*/\\n\\n\\nCREATE TABLE reward (\\n\\taddr_id BIGINT NOT NULL, \\n\\ttype rewardtype NOT NULL, \\n\\tamount NUMERIC NOT NULL, \\n\\tspendable_epoch BIGINT NOT NULL, \\n\\tpool_id BIGINT NOT NULL, \\n\\tearned_epoch BIGINT GENERATED ALWAYS AS (\\nCASE\\n    WHEN (type = 'refund'::rewardtype) THEN spendable_epoch\\n    ELSE\\n    CASE\\n        WHEN (spendable_epoch >= 2) THEN (spendable_epoch - 2)\\n        ELSE (0)::bigint\\n    END\\nEND) STORED NOT NULL, \\n\\tCONSTRAINT unique_reward UNIQUE (addr_id, type, earned_epoch, pool_id)\\n)\\n\\n/*\\n3 rows from reward table:\\naddr_id\\ttype\\tamount\\tspendable_epoch\\tpool_id\\tearned_epoch\\n1830\\trefund\\t500000000\\t209\\t127\\t209\\n4974\\trefund\\t500000000\\t209\\t336\\t209\\n38232\\trefund\\t500000000\\t209\\t566\\t209\\n*/\", name='sql_db_schema', id='385711b0-f4ed-4e7a-b3ef-39e7a66cdafe', tool_call_id='call_e4dy'), AIMessage(content='SELECT es.pool_id, SUM(es.amount) AS total_stakes, SUM(r.amount) AS total_rewards\\nFROM epoch_stake es\\nJOIN reward r ON es.pool_id = r.pool_id\\nWHERE es.epoch_no = 280 AND r.earned_epoch = 280\\nGROUP BY es.pool_id;', additional_kwargs={}, response_metadata={'token_usage': {'completion_tokens': 63, 'prompt_tokens': 1077, 'total_tokens': 1140, 'completion_time': 0.18, 'prompt_time': 0.188092701, 'queue_time': 0.020864669000000002, 'total_time': 0.368092701}, 'model_name': 'llama3-70b-8192', 'system_fingerprint': 'fp_7ab5f7e105', 'finish_reason': 'stop', 'logprobs': None}, id='run-80ce5ca0-f70f-4a89-bc70-31eacb19d5f8-0', usage_metadata={'input_tokens': 1077, 'output_tokens': 63, 'total_tokens': 1140})]}\n"
     ]
    }
   ],
   "source": [
    "#    {\"messages\": [(\"user\", \"Write a PostgreSQL query that retrieves schema information for the tables tx_in, tx_out, reward, in the database. The query should include: Table Name (table_name), Column Name (column_name). Format the query to retrieve these details in a way that captures column metadata across the first ten tables in the database. Add one more column named Description that describes each row in the tables, for example, for the row block_id, the description should be - The Block table index of the block for which this snapshot was taken. IMPORTANT: Avoid generating a description of No description available. The final output should only be the SQL query, with no additional explanation or comments.\")]}\n",
    "#    {\"messages\": [(\"user\", \"Generate a SQL query that extracts the total stakes and total rewards each epoch\")]}\n",
    "\n",
    "messages = app.invoke(\n",
    "    {\"messages\": [(\"user\", \"Generate a SQL query that returns pool id, the total stakes delegated to each pool, and total rewards earned by each pool in epoch 280 from tables reward and epoch_stake\")]}\n",
    ")\n",
    "print(messages)\n",
    "#json_str = messages[\"messages\"][-1].tool_calls[0][\"args\"][\"final_answer\"]\n",
    "#json_str\n",
    "#print(messages[\"messages\"][-1].content)"
   ]
  },
  {
   "cell_type": "code",
   "execution_count": null,
   "id": "185f9e0b-1320-495b-a464-a0a6aa927809",
   "metadata": {},
   "outputs": [],
   "source": [
    "#Write a PostgreSQL query that retrieves schema information for the tables tx_in, tx_out, reward, in the database. The query should include: Table Name (table_name), Column Name (column_name). Format the query to retrieve these details in a way that captures column metadata across the first ten tables in the database. Add one more column named Description that describes each row in the tables, for example, for the row block_id, the description should be - The Block table index of the block for which this snapshot was taken. IMPORTANT: Avoid generating a description of No description available. The final output should only be the SQL query, with no additional explanation or comments."
   ]
  },
  {
   "cell_type": "code",
   "execution_count": null,
   "id": "65cd8b76-77e9-4e70-a452-028103a40449",
   "metadata": {},
   "outputs": [],
   "source": [
    "print(messages[\"messages\"][-1])"
   ]
  },
  {
   "cell_type": "code",
   "execution_count": null,
   "id": "bba2bde0-5e12-4cc7-a593-91e2be73f1f3",
   "metadata": {},
   "outputs": [],
   "source": []
  }
 ],
 "metadata": {
  "kernelspec": {
   "display_name": "Python 3 (ipykernel)",
   "language": "python",
   "name": "python3"
  },
  "language_info": {
   "codemirror_mode": {
    "name": "ipython",
    "version": 3
   },
   "file_extension": ".py",
   "mimetype": "text/x-python",
   "name": "python",
   "nbconvert_exporter": "python",
   "pygments_lexer": "ipython3",
   "version": "3.10.14"
  }
 },
 "nbformat": 4,
 "nbformat_minor": 5
}
